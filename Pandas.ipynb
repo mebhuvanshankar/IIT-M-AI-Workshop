{
  "nbformat": 4,
  "nbformat_minor": 0,
  "metadata": {
    "colab": {
      "provenance": []
    },
    "kernelspec": {
      "name": "python3",
      "display_name": "Python 3"
    },
    "language_info": {
      "name": "python"
    }
  },
  "cells": [
    {
      "cell_type": "code",
      "execution_count": null,
      "metadata": {
        "id": "gnuDry-5KV5y"
      },
      "outputs": [],
      "source": [
        "import pandas as pd"
      ]
    },
    {
      "cell_type": "code",
      "source": [
        "data = {\n",
        "    'Name':['John','Jane','Bob'],\n",
        "    'Age':[25,30,35],\n",
        "    'City':['New York','London','Paris']\n",
        "}\n"
      ],
      "metadata": {
        "id": "DFDK_Ff1Kbw3"
      },
      "execution_count": null,
      "outputs": []
    },
    {
      "cell_type": "code",
      "source": [
        "df=pd.DataFrame(data)\n",
        "print(df)"
      ],
      "metadata": {
        "colab": {
          "base_uri": "https://localhost:8080/"
        },
        "id": "CeqlvgpWK8t6",
        "outputId": "e5a4c2e2-a1cd-44f9-fd24-ece9e4c8bc76"
      },
      "execution_count": null,
      "outputs": [
        {
          "output_type": "stream",
          "name": "stdout",
          "text": [
            "   Name  Age      City\n",
            "0  John   25  New York\n",
            "1  Jane   30    London\n",
            "2   Bob   35     Paris\n"
          ]
        }
      ]
    },
    {
      "cell_type": "code",
      "source": [
        "ages=df['Age']\n",
        "print(ages)"
      ],
      "metadata": {
        "colab": {
          "base_uri": "https://localhost:8080/"
        },
        "id": "_cFpCXscLL3W",
        "outputId": "f4c845a1-7c6a-4ab3-9c23-79d2f7dc9c07"
      },
      "execution_count": null,
      "outputs": [
        {
          "output_type": "stream",
          "name": "stdout",
          "text": [
            "0    25\n",
            "1    30\n",
            "2    35\n",
            "Name: Age, dtype: int64\n"
          ]
        }
      ]
    }
  ]
}