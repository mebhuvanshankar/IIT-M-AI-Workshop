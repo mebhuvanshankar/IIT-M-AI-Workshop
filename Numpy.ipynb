{
  "cells": [
    {
      "cell_type": "code",
      "execution_count": 1,
      "metadata": {
        "id": "AGsUp_h3zjFo"
      },
      "outputs": [],
      "source": [
        "import numpy as np"
      ]
    },
    {
      "cell_type": "code",
      "execution_count": 2,
      "metadata": {
        "colab": {
          "base_uri": "https://localhost:8080/"
        },
        "id": "uj4lDOTIzoFT",
        "outputId": "850358f4-a111-496b-b52f-ea4b9a127414"
      },
      "outputs": [
        {
          "output_type": "stream",
          "name": "stdout",
          "text": [
            "Matrix\n",
            " [[1 2 3]\n",
            " [4 5 6]\n",
            " [7 8 9]\n",
            " [0 1 2]]\n"
          ]
        }
      ],
      "source": [
        "matrix = np.array([[1,2,3],[4,5,6],[7,8,9],[0,1,2]])\n",
        "print(\"Matrix\\n\",matrix)"
      ]
    },
    {
      "cell_type": "code",
      "execution_count": 3,
      "metadata": {
        "colab": {
          "base_uri": "https://localhost:8080/"
        },
        "id": "GdDeUGjYztX-",
        "outputId": "956256e9-7c95-441b-9560-694ce1fa6cae"
      },
      "outputs": [
        {
          "output_type": "stream",
          "name": "stdout",
          "text": [
            "element at(2,3): 6\n"
          ]
        }
      ],
      "source": [
        "element = matrix[1,2]\n",
        "print(\"element at(2,3):\",element)"
      ]
    },
    {
      "cell_type": "code",
      "execution_count": 4,
      "metadata": {
        "colab": {
          "base_uri": "https://localhost:8080/"
        },
        "id": "G311H4kuzxzm",
        "outputId": "c7b7224d-23a4-40d0-d57a-a112b4c59209"
      },
      "outputs": [
        {
          "output_type": "stream",
          "name": "stdout",
          "text": [
            "First two rows\n",
            " [[1 2 3]\n",
            " [4 5 6]]\n"
          ]
        }
      ],
      "source": [
        "sliced_matrix = matrix[:2,:]\n",
        "print(\"First two rows\\n\",sliced_matrix)"
      ]
    }
  ],
  "metadata": {
    "colab": {
      "provenance": []
    },
    "kernelspec": {
      "display_name": "Python 3",
      "name": "python3"
    },
    "language_info": {
      "name": "python"
    }
  },
  "nbformat": 4,
  "nbformat_minor": 0
}